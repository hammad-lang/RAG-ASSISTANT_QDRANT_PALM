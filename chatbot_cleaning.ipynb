{
  "cells": [
    {
      "cell_type": "code",
      "execution_count": null,
      "metadata": {
        "id": "e-_pb_iYvllF"
      },
      "outputs": [],
      "source": [
        "import pandas as pd\n",
        "import re"
      ]
    },
    {
      "cell_type": "code",
      "source": [
        "df=pd.read_csv(r\"/content/posts_data.csv\",error_bad_lines=False, engine=\"python\")"
      ],
      "metadata": {
        "id": "NOTzm4gdKWGU"
      },
      "execution_count": null,
      "outputs": []
    },
    {
      "cell_type": "code",
      "execution_count": null,
      "metadata": {
        "id": "ACc2asTWzzMf"
      },
      "outputs": [],
      "source": [
        "#removing [raw_html] text\n",
        "for j in range(len(df['post_content'])):\n",
        "    remove=re.findall(\"\\[vc_raw_html.*\",df['post_content'][j])\n",
        "    for i in remove:\n",
        "      df['post_content'][j]=df['post_content'][j].replace(i,\"\")"
      ]
    },
    {
      "cell_type": "code",
      "execution_count": null,
      "metadata": {
        "id": "OcMNKckAZOY_"
      },
      "outputs": [],
      "source": [
        "#replacing </h> tags with .\n",
        "for j in range(len(df['post_content'])):\n",
        "    remove=re.findall(\"</h.*?>\",df['post_content'][j])\n",
        "    for i in remove:\n",
        "      df['post_content'][j]=df['post_content'][j].replace(i,\".\")"
      ]
    },
    {
      "cell_type": "code",
      "execution_count": null,
      "metadata": {
        "id": "PVz7tWZEwNVU"
      },
      "outputs": [],
      "source": [
        "#removing all tags enclosed with <>\n",
        "for j in range(len(df['post_content'])):\n",
        "    remove=re.findall(\"<.*?>\",df['post_content'][j])\n",
        "    for i in remove:\n",
        "      df['post_content'][j]=df['post_content'][j].replace(i,' ')\n"
      ]
    },
    {
      "cell_type": "code",
      "execution_count": null,
      "metadata": {
        "id": "yKkd0vLQwY-C"
      },
      "outputs": [],
      "source": [
        "#removing all tags enclosed with []\n",
        "for j in range(len(df['post_content'])):\n",
        "    remove=re.findall(\"\\[.*?]\",df['post_content'][j])\n",
        "    for i in remove:\n",
        "      df['post_content'][j]=df['post_content'][j].replace(i,\" \")"
      ]
    },
    {
      "cell_type": "code",
      "source": [
        "#removing &nbsp\n",
        "for j in range(len(df['post_content'])):\n",
        "    remove=re.findall(\"&nbsp\",df['post_content'][j])\n",
        "    for i in remove:\n",
        "      df['post_content'][j]=df['post_content'][j].replace(i,\"\")"
      ],
      "metadata": {
        "id": "33ughcUgLCvZ"
      },
      "execution_count": null,
      "outputs": []
    },
    {
      "cell_type": "code",
      "source": [
        "#removing \\t tab tags\n",
        "for j in range(len(df['post_content'])):\n",
        "    remove=re.findall(\"\\\\t\",df['post_content'][j])\n",
        "    for i in remove:\n",
        "      df['post_content'][j]=df['post_content'][j].replace(i,\"\")"
      ],
      "metadata": {
        "id": "hHsPvJNFTyRO"
      },
      "execution_count": null,
      "outputs": []
    },
    {
      "cell_type": "code",
      "execution_count": null,
      "metadata": {
        "id": "srVsAIBa1hhc"
      },
      "outputs": [],
      "source": [
        "#removing \\xa0\n",
        "for j in range(len(df['post_content'])):\n",
        "    remove=re.findall(\"\\\\xa0\",df['post_content'][j])\n",
        "    for i in remove:\n",
        "      df['post_content'][j]=df['post_content'][j].replace(i,\"\")"
      ]
    },
    {
      "cell_type": "code",
      "execution_count": null,
      "metadata": {
        "id": "mEEeUyIWxfPy"
      },
      "outputs": [],
      "source": [
        "#removing double spaces\n",
        "for i in range(len(df['post_content'])):\n",
        "    df['post_content'][i]=df['post_content'][i].replace(\"  \",\" \")"
      ]
    },
    {
      "cell_type": "code",
      "execution_count": null,
      "metadata": {
        "id": "nuZXDg5M5bgZ"
      },
      "outputs": [],
      "source": [
        "#removing multiple spaces\n",
        "for i in range(len(df['post_content'])):\n",
        "    df['post_content'][i]=df['post_content'][i].replace(\"   \",\" \")"
      ]
    },
    {
      "cell_type": "code",
      "execution_count": null,
      "metadata": {
        "id": "fU6HnHyTacJ9"
      },
      "outputs": [],
      "source": [
        "#replacing ; with \"\"\n",
        "for j in range(len(df['post_content'])):\n",
        "    remove=re.findall(\";\",df['post_content'][j])\n",
        "    for i in remove:\n",
        "      df['post_content'][j]=df['post_content'][j].replace(i,\"\")"
      ]
    },
    {
      "cell_type": "code",
      "source": [
        "for j in range(len(df['post_content'])):\n",
        "    remove=re.findall(\"(\\\\\\)\",df['post_content'][j])\n",
        "    for i in remove:\n",
        "      df['post_content'][j]=df['post_content'][j].replace(i,\"\")"
      ],
      "metadata": {
        "id": "nnIcuk4COPYf"
      },
      "execution_count": null,
      "outputs": []
    },
    {
      "cell_type": "code",
      "source": [
        "for j in range(len(df['post_content'])):\n",
        "    remove=re.findall(\"(\\\\n|\\\\r)\",df['post_content'][j])\n",
        "    for i in remove:\n",
        "      df['post_content'][j]=df['post_content'][j].replace(i,\"\")"
      ],
      "metadata": {
        "id": "Hcg4brGhmqhA"
      },
      "execution_count": null,
      "outputs": []
    },
    {
      "cell_type": "code",
      "source": [
        "df['post_content']=df['post_content'].apply(lambda x:x.strip())"
      ],
      "metadata": {
        "id": "mqAZfIMGKgKS"
      },
      "execution_count": null,
      "outputs": []
    },
    {
      "cell_type": "code",
      "execution_count": null,
      "metadata": {
        "id": "RfA1meUfQfuj"
      },
      "outputs": [],
      "source": [
        "df.head()"
      ]
    },
    {
      "cell_type": "code",
      "execution_count": null,
      "metadata": {
        "id": "Wn209ggxaSsy"
      },
      "outputs": [],
      "source": [
        "max=0\n",
        "index=0\n",
        "for i,post in enumerate(df['post_content']):\n",
        "    length=len(re.findall(\"\\.\",post))\n",
        "    if length>max:\n",
        "      max=length\n",
        "      index=i"
      ]
    },
    {
      "cell_type": "code",
      "execution_count": null,
      "metadata": {
        "id": "A8swEmC1fcua"
      },
      "outputs": [],
      "source": [
        "re.findall(\"/\\\\/\",df['post_content'][1254])"
      ]
    },
    {
      "cell_type": "code",
      "execution_count": null,
      "metadata": {
        "id": "GRXav9nKhlb8"
      },
      "outputs": [],
      "source": [
        "df=pd.read_csv(\"cleaned_posts.csv\")"
      ]
    },
    {
      "cell_type": "code",
      "execution_count": null,
      "metadata": {
        "id": "ftgllfpa02bd"
      },
      "outputs": [],
      "source": [
        "fileno=1\n",
        "for t in range(len(df)):\n",
        "\n",
        "    df['post_content'][t]=df['post_content'][t].replace(\"Feature updates like Windows 10, version (a.k.a. the Windows 10 . WebNov 10\",\"ppp\")\n",
        "    data=df['post_content'][t].split(\".\")\n",
        "\n",
        "    if len(data)==1:\n",
        "      continue\n",
        "\n",
        "    elif len(data)<=30:\n",
        "      with open(f\"{fileno}.txt\",\"w+\") as f:\n",
        "        for i in data:\n",
        "          if i!=\"\":\n",
        "            print(i)\n",
        "            i=i+\"\\n\"\n",
        "            f.write(i)\n",
        "      fileno+=1\n",
        "    else:\n",
        "      i=0\n",
        "      j=30\n",
        "      while j<=len(data)+30:\n",
        "        temp=data[i:j]\n",
        "        with open(f\"{fileno}.txt\",\"w+\") as f:\n",
        "          print(i,j)\n",
        "          for d in temp:\n",
        "            d=d+\"\\n\"\n",
        "            d=d.replace(\"ppp\",\"Feature updates like Windows 10, version (a.k.a. the Windows 10 . WebNov 10\")\n",
        "            f.write(d)\n",
        "\n",
        "        i+=30\n",
        "        j+=30\n",
        "        fileno+=1\n",
        "\n"
      ]
    },
    {
      "cell_type": "code",
      "execution_count": null,
      "metadata": {
        "id": "ZbktWOgQMwmD"
      },
      "outputs": [],
      "source": [
        "fileno=1\n",
        "id=1\n",
        "\n",
        "data=df['post_content'][447].split('.')\n",
        "title=df['post_title'][447]\n",
        "print(title)\n",
        "if len(data)<=10:\n",
        "  with open(f\"{title} {fileno}.txt\",\"w+\") as f:\n",
        "    f.write(f\"Title {title}\\n\")\n",
        "    for i in data:\n",
        "      if i!=\"\":\n",
        "        print(i)\n",
        "        i=i+\"\\n\"\n",
        "        f.write(i)\n",
        "  fileno+=1\n",
        "else:\n",
        "  i=0\n",
        "  j=10\n",
        "  while j<=len(data)+10:\n",
        "    temp=data[i:j]\n",
        "    with open(f\"{title} {fileno}.txt\",\"w+\") as f:\n",
        "      print(i,j)\n",
        "      f.write(f\"Title {title}\\n\")\n",
        "      for d in temp:\n",
        "        d=d+\"\\n\"\n",
        "        d=d.replace(\"  \",\" \")\n",
        "        d=d.strip()\n",
        "        f.write(f\"{d}\\n\")\n",
        "\n",
        "    i+=10\n",
        "    j+=10\n",
        "    fileno+=1"
      ]
    },
    {
      "cell_type": "code",
      "source": [
        "df.head()"
      ],
      "metadata": {
        "id": "da3_tiYfq5rw"
      },
      "execution_count": null,
      "outputs": []
    },
    {
      "cell_type": "code",
      "source": [
        "df['post_content'][40].strip()"
      ],
      "metadata": {
        "id": "CD_3m5_s_yBh"
      },
      "execution_count": null,
      "outputs": []
    },
    {
      "cell_type": "code",
      "source": [],
      "metadata": {
        "id": "Ze7jA5IiXsOy"
      },
      "execution_count": null,
      "outputs": []
    },
    {
      "cell_type": "code",
      "source": [
        "len(df)"
      ],
      "metadata": {
        "id": "gfdO59cKXsUe"
      },
      "execution_count": null,
      "outputs": []
    },
    {
      "cell_type": "code",
      "source": [
        "df['post_content']=df['post_content'].apply(lambda x:x.strip())"
      ],
      "metadata": {
        "id": "GGEkHl5PAvQ1"
      },
      "execution_count": null,
      "outputs": []
    },
    {
      "cell_type": "code",
      "source": [
        "df['post_title'][40]"
      ],
      "metadata": {
        "id": "xZwV4u4DDOiC"
      },
      "execution_count": null,
      "outputs": []
    },
    {
      "cell_type": "code",
      "source": [
        "df['post_content'][40]"
      ],
      "metadata": {
        "id": "1GF4BYkhCv-O"
      },
      "execution_count": null,
      "outputs": []
    },
    {
      "cell_type": "code",
      "source": [
        "len(df['post_content'][40].split('.'))"
      ],
      "metadata": {
        "id": "9A4DhfrZC5vx"
      },
      "execution_count": null,
      "outputs": []
    },
    {
      "cell_type": "code",
      "source": [
        "df['post_content'][40]"
      ],
      "metadata": {
        "id": "0vtyhZnzEzld"
      },
      "execution_count": null,
      "outputs": []
    },
    {
      "cell_type": "code",
      "source": [
        "df['post_content'][40]"
      ],
      "metadata": {
        "id": "-_gBSr2QNdbz"
      },
      "execution_count": null,
      "outputs": []
    },
    {
      "cell_type": "code",
      "source": [
        "df['post_content'][1]"
      ],
      "metadata": {
        "id": "f8jOeTHGPIna"
      },
      "execution_count": null,
      "outputs": []
    },
    {
      "cell_type": "code",
      "source": [
        "df['post_content'][447]"
      ],
      "metadata": {
        "id": "UmbUG21ZW_Na"
      },
      "execution_count": null,
      "outputs": []
    },
    {
      "cell_type": "code",
      "source": [
        "df['post_content'][40]"
      ],
      "metadata": {
        "id": "ttpJARkJXyJo"
      },
      "execution_count": null,
      "outputs": []
    },
    {
      "cell_type": "code",
      "source": [
        "def contentSplitter(content,title,chunksize=200):\n",
        "  counter=1\n",
        "  words=content.split(' ')\n",
        "  i=0\n",
        "  while i<len(words):\n",
        "      with open(f\"/content/cleaned_files/{title} {counter}.txt\",\"w+\") as f:\n",
        "        f.write(f\"Title {title}\\n\")\n",
        "        f.write(' '.join(words[i:i+200]))\n",
        "      counter+=1\n",
        "      i+=200"
      ],
      "metadata": {
        "id": "u4McETbyZK2q"
      },
      "execution_count": null,
      "outputs": []
    },
    {
      "cell_type": "code",
      "source": [
        "for i in range(len(df)):\n",
        "    title=df['post_title'][i].replace(\"/\",\"\\\\\")\n",
        "    contentSplitter(df['post_content'][i],title,200)"
      ],
      "metadata": {
        "id": "ocRfCka9p8mA"
      },
      "execution_count": null,
      "outputs": []
    },
    {
      "cell_type": "code",
      "source": [
        "!zip -r cleaned_files.zip /content/cleaned_files"
      ],
      "metadata": {
        "id": "c49HVJBLnscV"
      },
      "execution_count": null,
      "outputs": []
    },
    {
      "cell_type": "code",
      "source": [
        "!rm -r /content/cleaned_files"
      ],
      "metadata": {
        "id": "LV2jM9LJrE9d"
      },
      "execution_count": null,
      "outputs": []
    },
    {
      "cell_type": "code",
      "source": [
        "df['post_title'][0].replace(\"/\",\"\\\\\")"
      ],
      "metadata": {
        "id": "m6pJyIXor0gY"
      },
      "execution_count": null,
      "outputs": []
    },
    {
      "cell_type": "code",
      "source": [
        "df['post_title'][107]"
      ],
      "metadata": {
        "id": "CScvCzaRzmLV"
      },
      "execution_count": null,
      "outputs": []
    },
    {
      "cell_type": "code",
      "source": [
        "with open(\"Pakistan_and_ASEAN_Startups_Get_Ready_An_AI\\\\ML_Bootcamp_Is_Right_Around_The_Corner_1.txt\",\"w+\") as f:\n",
        "  f.write(\"xskmxks\")"
      ],
      "metadata": {
        "id": "zLMC0TA6zuha"
      },
      "execution_count": null,
      "outputs": []
    },
    {
      "cell_type": "code",
      "source": [
        "rm -r /content/cleaned_files"
      ],
      "metadata": {
        "id": "o3dAg8Hb0MzT"
      },
      "execution_count": null,
      "outputs": []
    },
    {
      "cell_type": "code",
      "source": [
        "df['post_title'][107].replace(\"/\",\"\\\\\")"
      ],
      "metadata": {
        "id": "3TIkk50p1X1K"
      },
      "execution_count": null,
      "outputs": []
    },
    {
      "cell_type": "code",
      "source": [
        "df['post_title'][0]"
      ],
      "metadata": {
        "id": "ifcOlnmy1vX6"
      },
      "execution_count": null,
      "outputs": []
    },
    {
      "cell_type": "code",
      "source": [
        "df['post_title'][7]"
      ],
      "metadata": {
        "id": "6IAHgD7F3RxG"
      },
      "execution_count": null,
      "outputs": []
    },
    {
      "cell_type": "code",
      "source": [
        "df.isnull().sum()"
      ],
      "metadata": {
        "id": "zjtpXzBn4FdO"
      },
      "execution_count": null,
      "outputs": []
    },
    {
      "cell_type": "code",
      "source": [
        "df[df['post_content']==\"\"]"
      ],
      "metadata": {
        "id": "BqA1M6Me4IZC"
      },
      "execution_count": null,
      "outputs": []
    },
    {
      "cell_type": "code",
      "source": [
        "df=df[df['post_title'].notna()]"
      ],
      "metadata": {
        "id": "ZG11VWfS4hm7"
      },
      "execution_count": null,
      "outputs": []
    },
    {
      "cell_type": "code",
      "source": [
        "df.reset_index(drop=True,inplace=True)"
      ],
      "metadata": {
        "id": "otq4ngZL5hTr"
      },
      "execution_count": null,
      "outputs": []
    },
    {
      "cell_type": "code",
      "source": [
        "df[df['post_content']==\"   \"]"
      ],
      "metadata": {
        "id": "8XX8vofs5lHL"
      },
      "execution_count": null,
      "outputs": []
    },
    {
      "cell_type": "code",
      "source": [
        "df[df['post_title']==\"Pakistan's Exports to Reach New Summit of $38 Billion This Year\"]"
      ],
      "metadata": {
        "id": "hBBQh0_S563o"
      },
      "execution_count": null,
      "outputs": []
    },
    {
      "cell_type": "code",
      "source": [
        "df.isnull().sum()"
      ],
      "metadata": {
        "id": "wG5_aL0W6JQ6"
      },
      "execution_count": null,
      "outputs": []
    },
    {
      "cell_type": "code",
      "source": [
        "df[df['post_content']==\"    \"]"
      ],
      "metadata": {
        "id": "tThtVgSZ6gdW"
      },
      "execution_count": null,
      "outputs": []
    },
    {
      "cell_type": "code",
      "source": [
        "df.index()"
      ],
      "metadata": {
        "id": "mEBn5Wid6jbv"
      },
      "execution_count": null,
      "outputs": []
    },
    {
      "cell_type": "code",
      "source": [
        "df.head()"
      ],
      "metadata": {
        "id": "mlqFH1dh63bI"
      },
      "execution_count": null,
      "outputs": []
    },
    {
      "cell_type": "code",
      "source": [
        "df.tail()"
      ],
      "metadata": {
        "id": "-TkqFSc17H3G"
      },
      "execution_count": null,
      "outputs": []
    },
    {
      "cell_type": "code",
      "source": [],
      "metadata": {
        "id": "dLJ73pZU7rH2"
      },
      "execution_count": null,
      "outputs": []
    }
  ],
  "metadata": {
    "colab": {
      "provenance": [],
      "gpuType": "T4"
    },
    "kernelspec": {
      "display_name": "Python 3",
      "name": "python3"
    },
    "language_info": {
      "name": "python"
    },
    "accelerator": "GPU"
  },
  "nbformat": 4,
  "nbformat_minor": 0
}